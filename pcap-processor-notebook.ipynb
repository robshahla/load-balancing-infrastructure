{
 "cells": [
  {
   "cell_type": "code",
   "execution_count": 28,
   "metadata": {
    "collapsed": true
   },
   "outputs": [],
   "source": [
    "import json\n",
    "import pyshark\n",
    "import nest_asyncio\n",
    "from ast import literal_eval as make_tuple\n",
    "import statistics\n",
    "import matplotlib.pyplot as plt\n",
    "import numpy as np\n",
    "nest_asyncio.apply()"
   ]
  },
  {
   "cell_type": "code",
   "execution_count": 29,
   "outputs": [],
   "source": [
    "def count_quic_packets(filename):\n",
    "    pcap_data = pyshark.FileCapture(filename)\n",
    "    count = 0\n",
    "    packets_count = 0\n",
    "    for packet in pcap_data:\n",
    "        packets_count += 1\n",
    "        # if packet.highest_layer == \"QUIC\":\n",
    "        #     count += 1\n",
    "        for layer in packet:\n",
    "            if layer.layer_name == 'quic':\n",
    "                count += 1\n",
    "\n",
    "    print(f\"quic packets count: {count}\")\n",
    "    print(f\"packets count: {packets_count}\")\n",
    "    pcap_data.close()"
   ],
   "metadata": {
    "collapsed": false
   }
  },
  {
   "cell_type": "code",
   "execution_count": 30,
   "outputs": [],
   "source": [
    "def initial_resumption_statistics(filename):\n",
    "    pcap_data = pyshark.FileCapture(filename)\n",
    "    count_initial_packets = 0\n",
    "    count_resumption_packets = 0  # these are Initial packets that contain a token (token_length != 0)\n",
    "\n",
    "    for packet in pcap_data:\n",
    "        # if packet.highest_layer == \"QUIC\":\n",
    "        for layer in packet:\n",
    "            if layer.layer_name == 'quic':\n",
    "                if int(packet.quic.header_form) == 1 and int(packet.quic.long_packet_type) == 0:\n",
    "                    count_initial_packets += 1\n",
    "                    if int(packet.quic.token_length) != 0:\n",
    "                        count_resumption_packets += 1\n",
    "                break\n",
    "    print(f\"count Initial packets: {count_initial_packets}\")\n",
    "    print(f\"count resumption packets: {count_resumption_packets}\")\n",
    "    print(f\"ratio of resumption packets:  {count_resumption_packets / count_initial_packets}\")\n",
    "    pcap_data.close()"
   ],
   "metadata": {
    "collapsed": false
   }
  },
  {
   "cell_type": "code",
   "execution_count": 31,
   "outputs": [],
   "source": [
    "# returns the string that represents the ip and port tuple given\n",
    "def get_tuple_string(ip, port):\n",
    "    return str(ip) + \"-\" + str(port)"
   ],
   "metadata": {
    "collapsed": false
   }
  },
  {
   "cell_type": "code",
   "execution_count": 32,
   "outputs": [],
   "source": [
    "# returns two options of 4-tuple of the given packet, the two options differ in the source and destination order\n",
    "def get_four_tuple(packet):\n",
    "\n",
    "    src_tuple = get_tuple_string(packet.ip.src, packet.udp.srcport)\n",
    "    dst_tuple = get_tuple_string(packet.ip.dst, packet.udp.dstport)\n",
    "    return (src_tuple, dst_tuple), (dst_tuple, src_tuple)"
   ],
   "metadata": {
    "collapsed": false
   }
  },
  {
   "cell_type": "code",
   "execution_count": 33,
   "outputs": [],
   "source": [
    "# appends an entry to the given dictionary, with the given parameters\n",
    "def append_to_dict(connections: dict, src_dst_tuple, dst_src_tuple, timestamp, token, initial):\n",
    "    if (src_dst_tuple, dst_src_tuple) in connections.keys():\n",
    "        connections[(src_dst_tuple, dst_src_tuple)] += [\",\".join([timestamp, str(src_dst_tuple), token, initial])]\n",
    "    elif (dst_src_tuple, src_dst_tuple) in connections.keys():\n",
    "        connections[(dst_src_tuple, src_dst_tuple)] += [\",\".join([timestamp, str(src_dst_tuple), token, initial])]\n",
    "    else:\n",
    "        connections[(src_dst_tuple, dst_src_tuple)] = [\",\".join([timestamp, str(src_dst_tuple), token, initial])]"
   ],
   "metadata": {
    "collapsed": false
   }
  },
  {
   "cell_type": "code",
   "execution_count": 34,
   "outputs": [],
   "source": [
    "# build a dictionary that contains as keys the IP + Port tuple of both endpoints of a connection.\n",
    "# the values are timestamp, source IP + Port, destination IP + Port, bool=true if token is available,\n",
    "def clients_dict(pcap_data, out_file):\n",
    "    connections = {}\n",
    "    for packet in pcap_data:\n",
    "        layers = [layer.layer_name for layer in packet]\n",
    "        if \"quic\" in layers and \"udp\" in layers:\n",
    "            timestamp = packet.sniff_timestamp\n",
    "            src_dst_tuple, dst_src_tuple = get_four_tuple(packet)\n",
    "            initial = \"initial\" if int(packet.quic.header_form) == 1 and int(packet.quic.long_packet_type) == 0 else \"non_initial\"\n",
    "            token = \"token_available\" if initial == \"initial\" and int(packet.quic.token_length) != 0 else \"no_token_available\"\n",
    "            append_to_dict(connections,\n",
    "                           src_dst_tuple,\n",
    "                           dst_src_tuple,\n",
    "                           timestamp,\n",
    "                           token,\n",
    "                           initial)\n",
    "\n",
    "    with open(out_file, 'w') as f:\n",
    "        json.dump({str(k): v for k, v in connections.items()}, f, indent=4)"
   ],
   "metadata": {
    "collapsed": false
   }
  },
  {
   "cell_type": "code",
   "execution_count": 35,
   "outputs": [],
   "source": [
    "files_base_path = \"../pcap-data/DATA/ALLOT/YouTube/\""
   ],
   "metadata": {
    "collapsed": false
   }
  },
  {
   "cell_type": "code",
   "execution_count": 36,
   "outputs": [
    {
     "ename": "KeyboardInterrupt",
     "evalue": "",
     "output_type": "error",
     "traceback": [
      "\u001B[0;31m---------------------------------------------------------------------------\u001B[0m",
      "\u001B[0;31mKeyboardInterrupt\u001B[0m                         Traceback (most recent call last)",
      "Cell \u001B[0;32mIn [36], line 2\u001B[0m\n\u001B[1;32m      1\u001B[0m filename1 \u001B[38;5;241m=\u001B[39m files_base_path \u001B[38;5;241m+\u001B[39m \u001B[38;5;124m\"\u001B[39m\u001B[38;5;124m1667395874.0_video_qoe_1_R9JNA0DNB9J_2022-11-02_15-31-14_00000.pcap\u001B[39m\u001B[38;5;124m\"\u001B[39m\n\u001B[0;32m----> 2\u001B[0m \u001B[43mcount_quic_packets\u001B[49m\u001B[43m(\u001B[49m\u001B[43mfilename1\u001B[49m\u001B[43m)\u001B[49m\n\u001B[1;32m      3\u001B[0m initial_resumption_statistics(filename1)\n",
      "Cell \u001B[0;32mIn [29], line 5\u001B[0m, in \u001B[0;36mcount_quic_packets\u001B[0;34m(filename)\u001B[0m\n\u001B[1;32m      3\u001B[0m count \u001B[38;5;241m=\u001B[39m \u001B[38;5;241m0\u001B[39m\n\u001B[1;32m      4\u001B[0m packets_count \u001B[38;5;241m=\u001B[39m \u001B[38;5;241m0\u001B[39m\n\u001B[0;32m----> 5\u001B[0m \u001B[38;5;28;01mfor\u001B[39;00m packet \u001B[38;5;129;01min\u001B[39;00m pcap_data:\n\u001B[1;32m      6\u001B[0m     packets_count \u001B[38;5;241m+\u001B[39m\u001B[38;5;241m=\u001B[39m \u001B[38;5;241m1\u001B[39m\n\u001B[1;32m      7\u001B[0m     \u001B[38;5;66;03m# if packet.highest_layer == \"QUIC\":\u001B[39;00m\n\u001B[1;32m      8\u001B[0m     \u001B[38;5;66;03m#     count += 1\u001B[39;00m\n",
      "File \u001B[0;32m~/lib/python3.8/site-packages/pyshark/capture/capture.py:221\u001B[0m, in \u001B[0;36mCapture._packets_from_tshark_sync\u001B[0;34m(self, packet_count, existing_process)\u001B[0m\n\u001B[1;32m    219\u001B[0m \u001B[38;5;28;01mwhile\u001B[39;00m \u001B[38;5;28;01mTrue\u001B[39;00m:\n\u001B[1;32m    220\u001B[0m     \u001B[38;5;28;01mtry\u001B[39;00m:\n\u001B[0;32m--> 221\u001B[0m         packet, data \u001B[38;5;241m=\u001B[39m \u001B[38;5;28;43mself\u001B[39;49m\u001B[38;5;241;43m.\u001B[39;49m\u001B[43meventloop\u001B[49m\u001B[38;5;241;43m.\u001B[39;49m\u001B[43mrun_until_complete\u001B[49m\u001B[43m(\u001B[49m\n\u001B[1;32m    222\u001B[0m \u001B[43m            \u001B[49m\u001B[43mparser\u001B[49m\u001B[38;5;241;43m.\u001B[39;49m\u001B[43mget_packets_from_stream\u001B[49m\u001B[43m(\u001B[49m\u001B[43mtshark_process\u001B[49m\u001B[38;5;241;43m.\u001B[39;49m\u001B[43mstdout\u001B[49m\u001B[43m,\u001B[49m\u001B[43m \u001B[49m\u001B[43mdata\u001B[49m\u001B[43m,\u001B[49m\n\u001B[1;32m    223\u001B[0m \u001B[43m                                           \u001B[49m\u001B[43mgot_first_packet\u001B[49m\u001B[38;5;241;43m=\u001B[39;49m\u001B[43mpackets_captured\u001B[49m\u001B[43m \u001B[49m\u001B[38;5;241;43m>\u001B[39;49m\u001B[43m \u001B[49m\u001B[38;5;241;43m0\u001B[39;49m\u001B[43m)\u001B[49m\u001B[43m)\u001B[49m\n\u001B[1;32m    225\u001B[0m     \u001B[38;5;28;01mexcept\u001B[39;00m \u001B[38;5;167;01mEOFError\u001B[39;00m:\n\u001B[1;32m    226\u001B[0m         \u001B[38;5;28mself\u001B[39m\u001B[38;5;241m.\u001B[39m_log\u001B[38;5;241m.\u001B[39mdebug(\u001B[38;5;124m\"\u001B[39m\u001B[38;5;124mEOF reached (sync)\u001B[39m\u001B[38;5;124m\"\u001B[39m)\n",
      "File \u001B[0;32m~/lib/python3.8/site-packages/nest_asyncio.py:84\u001B[0m, in \u001B[0;36m_patch_loop.<locals>.run_until_complete\u001B[0;34m(self, future)\u001B[0m\n\u001B[1;32m     82\u001B[0m     f\u001B[38;5;241m.\u001B[39m_log_destroy_pending \u001B[38;5;241m=\u001B[39m \u001B[38;5;28;01mFalse\u001B[39;00m\n\u001B[1;32m     83\u001B[0m \u001B[38;5;28;01mwhile\u001B[39;00m \u001B[38;5;129;01mnot\u001B[39;00m f\u001B[38;5;241m.\u001B[39mdone():\n\u001B[0;32m---> 84\u001B[0m     \u001B[38;5;28;43mself\u001B[39;49m\u001B[38;5;241;43m.\u001B[39;49m\u001B[43m_run_once\u001B[49m\u001B[43m(\u001B[49m\u001B[43m)\u001B[49m\n\u001B[1;32m     85\u001B[0m     \u001B[38;5;28;01mif\u001B[39;00m \u001B[38;5;28mself\u001B[39m\u001B[38;5;241m.\u001B[39m_stopping:\n\u001B[1;32m     86\u001B[0m         \u001B[38;5;28;01mbreak\u001B[39;00m\n",
      "File \u001B[0;32m~/lib/python3.8/site-packages/nest_asyncio.py:120\u001B[0m, in \u001B[0;36m_patch_loop.<locals>._run_once\u001B[0;34m(self)\u001B[0m\n\u001B[1;32m    118\u001B[0m     handle \u001B[38;5;241m=\u001B[39m ready\u001B[38;5;241m.\u001B[39mpopleft()\n\u001B[1;32m    119\u001B[0m     \u001B[38;5;28;01mif\u001B[39;00m \u001B[38;5;129;01mnot\u001B[39;00m handle\u001B[38;5;241m.\u001B[39m_cancelled:\n\u001B[0;32m--> 120\u001B[0m         \u001B[43mhandle\u001B[49m\u001B[38;5;241;43m.\u001B[39;49m\u001B[43m_run\u001B[49m\u001B[43m(\u001B[49m\u001B[43m)\u001B[49m\n\u001B[1;32m    121\u001B[0m handle \u001B[38;5;241m=\u001B[39m \u001B[38;5;28;01mNone\u001B[39;00m\n",
      "File \u001B[0;32m/Library/Developer/CommandLineTools/Library/Frameworks/Python3.framework/Versions/3.8/lib/python3.8/asyncio/events.py:81\u001B[0m, in \u001B[0;36mHandle._run\u001B[0;34m(self)\u001B[0m\n\u001B[1;32m     79\u001B[0m \u001B[38;5;28;01mdef\u001B[39;00m \u001B[38;5;21m_run\u001B[39m(\u001B[38;5;28mself\u001B[39m):\n\u001B[1;32m     80\u001B[0m     \u001B[38;5;28;01mtry\u001B[39;00m:\n\u001B[0;32m---> 81\u001B[0m         \u001B[38;5;28;43mself\u001B[39;49m\u001B[38;5;241;43m.\u001B[39;49m\u001B[43m_context\u001B[49m\u001B[38;5;241;43m.\u001B[39;49m\u001B[43mrun\u001B[49m\u001B[43m(\u001B[49m\u001B[38;5;28;43mself\u001B[39;49m\u001B[38;5;241;43m.\u001B[39;49m\u001B[43m_callback\u001B[49m\u001B[43m,\u001B[49m\u001B[43m \u001B[49m\u001B[38;5;241;43m*\u001B[39;49m\u001B[38;5;28;43mself\u001B[39;49m\u001B[38;5;241;43m.\u001B[39;49m\u001B[43m_args\u001B[49m\u001B[43m)\u001B[49m\n\u001B[1;32m     82\u001B[0m     \u001B[38;5;28;01mexcept\u001B[39;00m (\u001B[38;5;167;01mSystemExit\u001B[39;00m, \u001B[38;5;167;01mKeyboardInterrupt\u001B[39;00m):\n\u001B[1;32m     83\u001B[0m         \u001B[38;5;28;01mraise\u001B[39;00m\n",
      "File \u001B[0;32m~/lib/python3.8/site-packages/nest_asyncio.py:196\u001B[0m, in \u001B[0;36m_patch_task.<locals>.step\u001B[0;34m(task, exc)\u001B[0m\n\u001B[1;32m    194\u001B[0m curr_task \u001B[38;5;241m=\u001B[39m curr_tasks\u001B[38;5;241m.\u001B[39mget(task\u001B[38;5;241m.\u001B[39m_loop)\n\u001B[1;32m    195\u001B[0m \u001B[38;5;28;01mtry\u001B[39;00m:\n\u001B[0;32m--> 196\u001B[0m     \u001B[43mstep_orig\u001B[49m\u001B[43m(\u001B[49m\u001B[43mtask\u001B[49m\u001B[43m,\u001B[49m\u001B[43m \u001B[49m\u001B[43mexc\u001B[49m\u001B[43m)\u001B[49m\n\u001B[1;32m    197\u001B[0m \u001B[38;5;28;01mfinally\u001B[39;00m:\n\u001B[1;32m    198\u001B[0m     \u001B[38;5;28;01mif\u001B[39;00m curr_task \u001B[38;5;129;01mis\u001B[39;00m \u001B[38;5;28;01mNone\u001B[39;00m:\n",
      "File \u001B[0;32m/Library/Developer/CommandLineTools/Library/Frameworks/Python3.framework/Versions/3.8/lib/python3.8/asyncio/tasks.py:280\u001B[0m, in \u001B[0;36mTask.__step\u001B[0;34m(***failed resolving arguments***)\u001B[0m\n\u001B[1;32m    276\u001B[0m \u001B[38;5;28;01mtry\u001B[39;00m:\n\u001B[1;32m    277\u001B[0m     \u001B[38;5;28;01mif\u001B[39;00m exc \u001B[38;5;129;01mis\u001B[39;00m \u001B[38;5;28;01mNone\u001B[39;00m:\n\u001B[1;32m    278\u001B[0m         \u001B[38;5;66;03m# We use the `send` method directly, because coroutines\u001B[39;00m\n\u001B[1;32m    279\u001B[0m         \u001B[38;5;66;03m# don't have `__iter__` and `__next__` methods.\u001B[39;00m\n\u001B[0;32m--> 280\u001B[0m         result \u001B[38;5;241m=\u001B[39m \u001B[43mcoro\u001B[49m\u001B[38;5;241;43m.\u001B[39;49m\u001B[43msend\u001B[49m\u001B[43m(\u001B[49m\u001B[38;5;28;43;01mNone\u001B[39;49;00m\u001B[43m)\u001B[49m\n\u001B[1;32m    281\u001B[0m     \u001B[38;5;28;01melse\u001B[39;00m:\n\u001B[1;32m    282\u001B[0m         result \u001B[38;5;241m=\u001B[39m coro\u001B[38;5;241m.\u001B[39mthrow(exc)\n",
      "File \u001B[0;32m~/lib/python3.8/site-packages/pyshark/tshark/output_parser/tshark_xml.py:27\u001B[0m, in \u001B[0;36mTsharkXmlParser.get_packets_from_stream\u001B[0;34m(self, stream, existing_data, got_first_packet)\u001B[0m\n\u001B[1;32m     25\u001B[0m \u001B[38;5;28;01mif\u001B[39;00m \u001B[38;5;28mself\u001B[39m\u001B[38;5;241m.\u001B[39m_parse_summaries:\n\u001B[1;32m     26\u001B[0m     existing_data \u001B[38;5;241m=\u001B[39m \u001B[38;5;28;01mawait\u001B[39;00m \u001B[38;5;28mself\u001B[39m\u001B[38;5;241m.\u001B[39m_get_psml_struct(stream)\n\u001B[0;32m---> 27\u001B[0m \u001B[38;5;28;01mreturn\u001B[39;00m \u001B[38;5;28;01mawait\u001B[39;00m \u001B[38;5;28msuper\u001B[39m()\u001B[38;5;241m.\u001B[39mget_packets_from_stream(stream, existing_data, got_first_packet\u001B[38;5;241m=\u001B[39mgot_first_packet)\n",
      "File \u001B[0;32m~/lib/python3.8/site-packages/pyshark/tshark/output_parser/base_parser.py:15\u001B[0m, in \u001B[0;36mBaseTsharkOutputParser.get_packets_from_stream\u001B[0;34m(self, stream, existing_data, got_first_packet)\u001B[0m\n\u001B[1;32m     12\u001B[0m packet, existing_data \u001B[38;5;241m=\u001B[39m \u001B[38;5;28mself\u001B[39m\u001B[38;5;241m.\u001B[39m_extract_packet_from_data(existing_data,\n\u001B[1;32m     13\u001B[0m                                                        got_first_packet\u001B[38;5;241m=\u001B[39mgot_first_packet)\n\u001B[1;32m     14\u001B[0m \u001B[38;5;28;01mif\u001B[39;00m packet:\n\u001B[0;32m---> 15\u001B[0m     packet \u001B[38;5;241m=\u001B[39m \u001B[38;5;28;43mself\u001B[39;49m\u001B[38;5;241;43m.\u001B[39;49m\u001B[43m_parse_single_packet\u001B[49m\u001B[43m(\u001B[49m\u001B[43mpacket\u001B[49m\u001B[43m)\u001B[49m\n\u001B[1;32m     16\u001B[0m     \u001B[38;5;28;01mreturn\u001B[39;00m packet, existing_data\n\u001B[1;32m     18\u001B[0m new_data \u001B[38;5;241m=\u001B[39m \u001B[38;5;28;01mawait\u001B[39;00m stream\u001B[38;5;241m.\u001B[39mread(\u001B[38;5;28mself\u001B[39m\u001B[38;5;241m.\u001B[39mDEFAULT_BATCH_SIZE)\n",
      "File \u001B[0;32m~/lib/python3.8/site-packages/pyshark/tshark/output_parser/tshark_xml.py:30\u001B[0m, in \u001B[0;36mTsharkXmlParser._parse_single_packet\u001B[0;34m(self, packet)\u001B[0m\n\u001B[1;32m     29\u001B[0m \u001B[38;5;28;01mdef\u001B[39;00m \u001B[38;5;21m_parse_single_packet\u001B[39m(\u001B[38;5;28mself\u001B[39m, packet):\n\u001B[0;32m---> 30\u001B[0m     \u001B[38;5;28;01mreturn\u001B[39;00m \u001B[43mpacket_from_xml_packet\u001B[49m\u001B[43m(\u001B[49m\u001B[43mpacket\u001B[49m\u001B[43m,\u001B[49m\u001B[43m \u001B[49m\u001B[43mpsml_structure\u001B[49m\u001B[38;5;241;43m=\u001B[39;49m\u001B[38;5;28;43mself\u001B[39;49m\u001B[38;5;241;43m.\u001B[39;49m\u001B[43m_psml_structure\u001B[49m\u001B[43m)\u001B[49m\n",
      "File \u001B[0;32m~/lib/python3.8/site-packages/pyshark/tshark/output_parser/tshark_xml.py:82\u001B[0m, in \u001B[0;36mpacket_from_xml_packet\u001B[0;34m(xml_pkt, psml_structure)\u001B[0m\n\u001B[1;32m     80\u001B[0m     parser \u001B[38;5;241m=\u001B[39m lxml\u001B[38;5;241m.\u001B[39mobjectify\u001B[38;5;241m.\u001B[39mmakeparser(huge_tree\u001B[38;5;241m=\u001B[39m\u001B[38;5;28;01mTrue\u001B[39;00m, recover\u001B[38;5;241m=\u001B[39m\u001B[38;5;28;01mTrue\u001B[39;00m)\n\u001B[1;32m     81\u001B[0m     xml_pkt \u001B[38;5;241m=\u001B[39m xml_pkt\u001B[38;5;241m.\u001B[39mdecode(errors\u001B[38;5;241m=\u001B[39m\u001B[38;5;124m'\u001B[39m\u001B[38;5;124mignore\u001B[39m\u001B[38;5;124m'\u001B[39m)\u001B[38;5;241m.\u001B[39mtranslate(DEL_BAD_XML_CHARS)\n\u001B[0;32m---> 82\u001B[0m     xml_pkt \u001B[38;5;241m=\u001B[39m \u001B[43mlxml\u001B[49m\u001B[38;5;241;43m.\u001B[39;49m\u001B[43mobjectify\u001B[49m\u001B[38;5;241;43m.\u001B[39;49m\u001B[43mfromstring\u001B[49m\u001B[43m(\u001B[49m\u001B[43mxml_pkt\u001B[49m\u001B[43m,\u001B[49m\u001B[43m \u001B[49m\u001B[43mparser\u001B[49m\u001B[43m)\u001B[49m\n\u001B[1;32m     83\u001B[0m \u001B[38;5;28;01mif\u001B[39;00m psml_structure:\n\u001B[1;32m     84\u001B[0m     \u001B[38;5;28;01mreturn\u001B[39;00m _packet_from_psml_packet(xml_pkt, psml_structure)\n",
      "\u001B[0;31mKeyboardInterrupt\u001B[0m: "
     ]
    }
   ],
   "source": [
    "filename1 = files_base_path + \"1667395874.0_video_qoe_1_R9JNA0DNB9J_2022-11-02_15-31-14_00000.pcap\"\n",
    "count_quic_packets(filename1)\n",
    "initial_resumption_statistics(filename1)"
   ],
   "metadata": {
    "collapsed": false
   }
  },
  {
   "cell_type": "code",
   "execution_count": null,
   "outputs": [],
   "source": [
    "filename2 = files_base_path + \"1667395874.0_video_qoe_2_R9JNA0DNB9J_2022-11-02_15-31-14_00000.pcap\"\n",
    "count_quic_packets(filename2)\n",
    "initial_resumption_statistics(filename2)"
   ],
   "metadata": {
    "collapsed": false
   }
  },
  {
   "cell_type": "code",
   "execution_count": null,
   "outputs": [],
   "source": [
    "all_filename = files_base_path + \"1660633522.0_video_qoe_all_2022-08-16_10-05-22_00000.pcap\"\n",
    "count_quic_packets(all_filename)\n",
    "initial_resumption_statistics(all_filename)"
   ],
   "metadata": {
    "collapsed": false
   }
  },
  {
   "cell_type": "code",
   "execution_count": null,
   "outputs": [],
   "source": [
    "filename2 = files_base_path + \"1667395874.0_video_qoe_2_R9JNA0DNB9J_2022-11-02_15-31-14_00000.pcap\"\n",
    "initial_resumption_statistics(filename2)"
   ],
   "metadata": {
    "collapsed": false
   }
  },
  {
   "cell_type": "code",
   "execution_count": null,
   "outputs": [],
   "source": [
    "filename3 = files_base_path + \"1667395874.0_video_qoe_3_R9JNA0DNB9J_2022-11-02_15-31-14_00000.pcap\"\n",
    "count_quic_packets(filename3)\n",
    "initial_resumption_statistics(filename3)"
   ],
   "metadata": {
    "collapsed": false
   }
  },
  {
   "cell_type": "code",
   "execution_count": null,
   "outputs": [],
   "source": [
    "filename3 = files_base_path + \"1667395874.0_video_qoe_3_R9JNA0DNB9J_2022-11-02_15-31-14_00000\"\n",
    "suffix = \".pcap\"\n",
    "filename = filename3 + suffix\n",
    "pcap_data = pyshark.FileCapture(filename)\n",
    "clients_dict(pcap_data, out_file=filename3 + \".json\")"
   ],
   "metadata": {
    "collapsed": false
   }
  },
  {
   "cell_type": "code",
   "execution_count": null,
   "outputs": [],
   "source": [
    "filename3 = files_base_path + \"1667395874.0_video_qoe_2_R9JNA0DNB9J_2022-11-02_15-31-14_00000\"\n",
    "suffix = \".pcap\"\n",
    "filename = filename3 + suffix\n",
    "pcap_data = pyshark.FileCapture(filename)\n",
    "clients_dict(pcap_data, out_file=filename3 + \".json\")"
   ],
   "metadata": {
    "collapsed": false
   }
  },
  {
   "cell_type": "code",
   "execution_count": 37,
   "outputs": [
    {
     "name": "stderr",
     "output_type": "stream",
     "text": [
      "/Users/shahlarobert/lib/python3.8/site-packages/pyshark/packet/layers/xml_layer.py:26: RuntimeWarning: coroutine 'Capture._get_tshark_process' was never awaited\n",
      "  attributes = dict(field.attrib)\n",
      "RuntimeWarning: Enable tracemalloc to get the object allocation traceback\n"
     ]
    }
   ],
   "source": [
    "filename3 = files_base_path + \"1660633522.0_video_qoe_all_2022-08-16_10-05-22_00000\"\n",
    "suffix = \".pcap\"\n",
    "filename = filename3 + suffix\n",
    "pcap_data = pyshark.FileCapture(filename)\n",
    "clients_dict(pcap_data, out_file=filename3 + \".json\")"
   ],
   "metadata": {
    "collapsed": false
   }
  },
  {
   "cell_type": "code",
   "execution_count": null,
   "outputs": [],
   "source": [
    "def read_json_to_dict(filename):\n",
    "    connections = {}\n",
    "    with open(filename) as file:\n",
    "        connections = json.load(file)\n",
    "\n",
    "    return connections"
   ],
   "metadata": {
    "collapsed": false
   }
  },
  {
   "cell_type": "code",
   "execution_count": null,
   "outputs": [],
   "source": [
    "def connections_number_starting_with_token(connections):\n",
    "    count_with_token = 0\n",
    "    for v in connections.values():\n",
    "        if v[0].split(\",\")[3] == 'token_available':\n",
    "            count_with_token += 1\n",
    "    return count_with_token"
   ],
   "metadata": {
    "collapsed": false
   }
  },
  {
   "cell_type": "code",
   "execution_count": null,
   "outputs": [],
   "source": [
    "connections = read_json_to_dict(filename3 + \".json\")\n",
    "packets_number_per_connection = sorted([len(v) for v in connections.values()])"
   ],
   "metadata": {
    "collapsed": false
   }
  },
  {
   "cell_type": "code",
   "execution_count": null,
   "outputs": [],
   "source": [
    "print(f\"number of connections: {len(connections.keys())}\")\n",
    "print(f\"number of connections using tokens in the first Initial packet of the connection: {connections_number_starting_with_token(connections)}\")\n",
    "print(f\"ratio of connections using tokens and overall connections: {connections_number_starting_with_token(connections) / len(connections.keys())}\")\n",
    "print(f\"number of packets per connection median: {statistics.median(packets_number_per_connection)}\")\n",
    "print(f\"number of packets per connection mean: {statistics.mean(packets_number_per_connection)}\")\n",
    "print(f\"number of packets overall: {sum(packets_number_per_connection)}\")\n",
    "print(f\"sniffing time: {6578.2} seconds, {6578.2 / 60} minutes\")\n",
    "print(f\"number of packets per connection: {packets_number_per_connection}\")\n",
    "plt.boxplot(packets_number_per_connection)\n",
    "plt.ylim(0,200)\n",
    "plt.show()"
   ],
   "metadata": {
    "collapsed": false
   }
  },
  {
   "cell_type": "code",
   "execution_count": null,
   "outputs": [],
   "source": [
    "four_tuples = []\n",
    "for k in connections.keys():\n",
    "    four_tuples += [make_tuple(k)[0][0], make_tuple(k)[0][1], make_tuple(k)[1][0], make_tuple(k)[1][1]]\n",
    "\n",
    "print(len(four_tuples))\n",
    "four_tuples = sorted(list(set(four_tuples)))\n",
    "print(len(four_tuples))\n",
    "for t in four_tuples:\n",
    "    print(t)\n",
    "four_tuples[0]\n",
    "\n",
    "\n",
    "# print(len(set(four_tuples)))\n",
    "# print(set(four_tuples))\n",
    "# print(('192.168.3.135-59561', '173.194.76.100-443') in four_tuples)"
   ],
   "metadata": {
    "collapsed": false
   }
  },
  {
   "cell_type": "code",
   "execution_count": null,
   "outputs": [],
   "source": [],
   "metadata": {
    "collapsed": false
   }
  },
  {
   "cell_type": "code",
   "execution_count": null,
   "outputs": [],
   "source": [],
   "metadata": {
    "collapsed": false
   }
  }
 ],
 "metadata": {
  "kernelspec": {
   "display_name": "Python 3",
   "language": "python",
   "name": "python3"
  },
  "language_info": {
   "codemirror_mode": {
    "name": "ipython",
    "version": 2
   },
   "file_extension": ".py",
   "mimetype": "text/x-python",
   "name": "python",
   "nbconvert_exporter": "python",
   "pygments_lexer": "ipython2",
   "version": "2.7.6"
  }
 },
 "nbformat": 4,
 "nbformat_minor": 0
}
