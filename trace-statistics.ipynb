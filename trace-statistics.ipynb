{
 "cells": [
  {
   "cell_type": "code",
   "execution_count": 5,
   "outputs": [],
   "source": [
    "import json\n",
    "import pyshark\n",
    "import nest_asyncio\n",
    "from ast import literal_eval as make_tuple\n",
    "import statistics\n",
    "import matplotlib.pyplot as plt\n",
    "import numpy as np\n",
    "nest_asyncio.apply()"
   ],
   "metadata": {
    "collapsed": false
   }
  },
  {
   "cell_type": "code",
   "execution_count": 6,
   "outputs": [],
   "source": [
    "def read_json_to_dict(filename):\n",
    "    connections = {}\n",
    "    with open(filename) as file:\n",
    "        connections = json.load(file)\n",
    "\n",
    "    return connections"
   ],
   "metadata": {
    "collapsed": false
   }
  },
  {
   "cell_type": "code",
   "execution_count": 7,
   "outputs": [],
   "source": [
    "def number_packets_including_syn(connections):\n",
    "    count_with_syn = 0\n",
    "    for v in connections.values():\n",
    "        count_with_syn += len([packet for packet in v if packet.split(\",\")[3] == 'syn'])\n",
    "    return count_with_syn"
   ],
   "metadata": {
    "collapsed": false
   }
  },
  {
   "cell_type": "code",
   "execution_count": 8,
   "outputs": [],
   "source": [
    "filename = \"tcp-processed-data-per-client.json\"\n",
    "connections = read_json_to_dict(filename)\n",
    "packets_number_per_connection = sorted([len(v) for v in connections.values()])"
   ],
   "metadata": {
    "collapsed": false
   }
  },
  {
   "cell_type": "code",
   "execution_count": 10,
   "outputs": [
    {
     "name": "stdout",
     "output_type": "stream",
     "text": [
      "number of communications: 1473347\n",
      "number of syn packets overall: 1502079\n",
      "ratio of connections using syn and overall connections: 1.0195011765727966\n",
      "number of packets per connection median: 1\n"
     ]
    },
    {
     "name": "stderr",
     "output_type": "stream",
     "text": [
      "IOPub data rate exceeded.\n",
      "The notebook server will temporarily stop sending output\n",
      "to the client in order to avoid crashing it.\n",
      "To change this limit, set the config variable\n",
      "`--NotebookApp.iopub_data_rate_limit`.\n",
      "\n",
      "Current values:\n",
      "NotebookApp.iopub_data_rate_limit=1000000.0 (bytes/sec)\n",
      "NotebookApp.rate_limit_window=3.0 (secs)\n",
      "\n"
     ]
    },
    {
     "data": {
      "text/plain": "<Figure size 640x480 with 1 Axes>",
      "image/png": "[encoded data removed]"
     },
     "metadata": {},
     "output_type": "display_data"
    }
   ],
   "source": [
    "print(f\"number of communications: {len(connections.keys())}\")\n",
    "print(f\"number of syn packets overall: {number_packets_including_syn(connections)}\")\n",
    "print(f\"ratio of connections using syn and overall connections: {number_packets_including_syn(connections) / len(connections.keys())}\")\n",
    "print(f\"number of packets per connection median: {statistics.median(packets_number_per_connection)}\")\n",
    "print(f\"number of packets per connection mean: {statistics.mean(packets_number_per_connection)}\")\n",
    "print(f\"number of packets overall: {sum(packets_number_per_connection)}\")\n",
    "print(f\"sniffing time: {6578.2} seconds, {6578.2 / 60} minutes\")\n",
    "print(f\"number of packets per connection: {packets_number_per_connection}\")\n",
    "plt.boxplot(packets_number_per_connection)\n",
    "plt.ylim(0,200)\n",
    "plt.show()"
   ],
   "metadata": {
    "collapsed": false
   }
  },
  {
   "cell_type": "code",
   "execution_count": 14,
   "outputs": [
    {
     "data": {
      "text/plain": "('2', '3')"
     },
     "execution_count": 14,
     "metadata": {},
     "output_type": "execute_result"
    }
   ],
   "source": [
    "tuple(sorted((\"3\", \"2\")))"
   ],
   "metadata": {
    "collapsed": false
   }
  },
  {
   "cell_type": "code",
   "execution_count": null,
   "outputs": [],
   "source": [
    "four_tuples = []\n",
    "for k in connections.keys():\n",
    "    four_tuples += [make_tuple(k)[0][0], make_tuple(k)[0][1], make_tuple(k)[1][0], make_tuple(k)[1][1]]\n",
    "\n",
    "print(len(four_tuples))\n",
    "four_tuples = sorted(list(set(four_tuples)))\n",
    "print(len(four_tuples))\n",
    "for t in four_tuples:\n",
    "    print(t)\n",
    "four_tuples[0]\n",
    "\n",
    "\n",
    "# print(len(set(four_tuples)))\n",
    "# print(set(four_tuples))\n",
    "# print(('192.168.3.135-59561', '173.194.76.100-443') in four_tuples)"
   ],
   "metadata": {
    "collapsed": false
   }
  }
 ],
 "metadata": {
  "kernelspec": {
   "display_name": "Python 3",
   "language": "python",
   "name": "python3"
  },
  "language_info": {
   "codemirror_mode": {
    "name": "ipython",
    "version": 2
   },
   "file_extension": ".py",
   "mimetype": "text/x-python",
   "name": "python",
   "nbconvert_exporter": "python",
   "pygments_lexer": "ipython2",
   "version": "2.7.6"
  }
 },
 "nbformat": 4,
 "nbformat_minor": 0
}
